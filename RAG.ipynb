{
  "cells": [
    {
      "cell_type": "code",
      "execution_count": 3,
      "metadata": {
        "colab": {
          "base_uri": "https://localhost:8080/"
        },
        "id": "_DiPZRjD3s4F",
        "outputId": "1618f8de-2ccc-4106-f5ab-9aa3e5fbae72"
      },
      "outputs": [
        {
          "name": "stdout",
          "output_type": "stream",
          "text": [
            "Gandalf is a wise and powerful Human Wizard, revered throughout the land for his magical abilities and extensive knowledge. He was born into a family of scholars, with both of his parents being accomplished wizards themselves. From a young age, Gandalf showed a keen interest and natural talent for magic, eagerly absorbing all the knowledge his parents could offer.\n",
            "\n",
            "As he grew older, Gandalf's thirst for knowledge led him to seek out other renowned wizards and scholars, traveling far and wide to uncover ancient texts and learn from the most skilled magical practitioners. He eventually settled in a quiet village, using his vast knowledge to help and teach others while continuing his own studies.\n",
            "\n",
            "Gandalf's trusty weapons are his staff, imbued with magical properties, and his spellbook, filled with powerful spells and incantations. With these tools at his disposal, he sets out on adventures, using his intellect and magical prowess to overcome any challenge that comes his way.\n",
            "Legolas was born to a prominent family of Elven rangers who were known for their expert archery and wilderness survival skills. He grew up in the mystical forests of Mirkwood, learning the ways of the forest from his parents and elders. As a child, Legolas quickly excelled in archery, being able to shoot with unmatched precision and speed.\n",
            "\n",
            "As he grew older, Legolas began to explore the world beyond the borders of Mirkwood, honing his survival skills and perfecting his craft. He became known as a skilled tracker and hunter, often embarking on solo adventures into the unknown.\n",
            "\n",
            "His Outlander background shaped his independent and self-reliant nature, as well as his deep connection to nature and his natural ability to blend into his surroundings. Legolas also became proficient in close combat, wielding a trusty dagger in addition to his longbow.\n",
            "\n",
            "With his keen senses and unmatchable skills, Legolas travels the lands, seeking adventure and fulfilling his duty as a defender of the forest.\n",
            "Gimli is a hardy Dwarf Fighter, standing at only 4'5\" but exuding the strength and resilience of his people. He hails from the mountainous kingdom of Erebor, a land known for its skilled craftsmen and warriors. As a member of the renowned Longbeard clan, Gimli was raised in a strict military tradition and trained in both weapon and shield combat from a young age.\n",
            "\n",
            "Growing up, Gimli showed a fierce determination and natural aptitude for battle, earning him a place among the elite Dwarf soldiers. His proficiency in wielding the battleaxe, a weapon passed down through generations of his family, is unmatched. His sturdy shield, carved with intricate Dwarven designs, offers him superior protection on the battlefield.\n",
            "\n",
            "With a strong sense of duty and a deep loyalty to his clan, Gimli left his homeland to serve as a soldier for hire, traveling to different lands to fight for a noble cause. Though short in stature, Gimli's bravery, skill, and unwavering loyalty make him a formidable opponent on any battlefield.\n"
          ]
        }
      ],
      "source": [
        "import openai\n",
        "\n",
        "\n",
        "# JSON data\n",
        "character_data = {\n",
        "  \"characters\": [\n",
        "    {\n",
        "      \"Name\": \"Gandalf\",\n",
        "      \"Race\": \"Human\",\n",
        "      \"Class\": \"Wizard\",\n",
        "      \"Weapons\": [\"Staff\", \"Spellbook\"],\n",
        "      \"Background\": \"Scholar\"\n",
        "    },\n",
        "    {\n",
        "      \"Name\": \"Legolas\",\n",
        "      \"Race\": \"Elf\",\n",
        "      \"Class\": \"Ranger\",\n",
        "      \"Weapons\": [\"Longbow\", \"Dagger\"],\n",
        "      \"Background\": \"Outlander\"\n",
        "    },\n",
        "    {\n",
        "      \"Name\": \"Gimli\",\n",
        "      \"Race\": \"Dwarf\",\n",
        "      \"Class\": \"Fighter\",\n",
        "      \"Weapons\": [\"Battleaxe\", \"Shield\"],\n",
        "      \"Background\": \"Soldier\"\n",
        "    }\n",
        "  ]\n",
        "}\n",
        "\n",
        "# Generate fantasy background stories for each character\n",
        "for character in character_data[\"characters\"]:\n",
        "    weapons = character['Weapons']\n",
        "    weapons[-1] = f\"and {weapons[-1]}\"\n",
        "    prompt = f\"Use 150 words to describe the background of a {character['Race']} {character['Class']} named {character['Name']}. This character's weapons are the {', '.join(character['Weapons'])}. They hail from a {character['Background']} background.\"\n",
        "\n",
        "    # Send a message to the OpenAI API and receive a response\n",
        "    response = openai.Completion.create(\n",
        "        engine=\"gpt-3.5-turbo-instruct\",\n",
        "        prompt=prompt,\n",
        "        max_tokens=300\n",
        "    )\n",
        "\n",
        "    output = response.choices[0].text.strip()\n",
        "    print(output)\n"
      ]
    }
  ],
  "metadata": {
    "accelerator": "GPU",
    "colab": {
      "gpuType": "T4",
      "provenance": []
    },
    "kernelspec": {
      "display_name": "Python 3",
      "name": "python3"
    },
    "language_info": {
      "codemirror_mode": {
        "name": "ipython",
        "version": 3
      },
      "file_extension": ".py",
      "mimetype": "text/x-python",
      "name": "python",
      "nbconvert_exporter": "python",
      "pygments_lexer": "ipython3",
      "version": "3.12.0"
    }
  },
  "nbformat": 4,
  "nbformat_minor": 0
}
