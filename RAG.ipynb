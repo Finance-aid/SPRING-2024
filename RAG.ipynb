{
  "cells": [
    {
      "cell_type": "code",
      "execution_count": 2,
      "metadata": {
        "colab": {
          "base_uri": "https://localhost:8080/"
        },
        "id": "_DiPZRjD3s4F",
        "outputId": "1618f8de-2ccc-4106-f5ab-9aa3e5fbae72"
      },
      "outputs": [
        {
          "name": "stdout",
          "output_type": "stream",
          "text": [
            "They are a wise and powerful ally to those they travel with.\n",
            "\n",
            "Gandalf is tall and slender, with long silver hair and a beard that reaches down to their chest. They have piercing blue eyes and a kind smile that puts others at ease. They dress in flowing robes of dark blue and gold, adorned with intricate patterns and symbols of magic.\n",
            "\n",
            "Their trusty Staff is made of polished oak and topped with a crystal orb that glows with a steady light. It is not just a simple walking stick, but a powerful tool for channeling their magic.\n",
            "\n",
            "Gandalf's Spellbook is their most prized possession. It contains an endless amount of spells and incantations, each carefully written in their elegant script. They are constantly adding new spells\n",
            "\n",
            "They stand tall and lean, with sharp features and long, sleek hair that is often braided with leaves and feathers.\n",
            "\n",
            "Legolas is an expert in tracking and surviving in the wilderness, having learned these skills from their Outlander kin. They are also highly skilled in archery, able to shoot with incredible accuracy and speed. They are often seen wearing a mix of light leather and woven fabrics, allowing for freedom of movement while still providing protection.\n",
            "\n",
            "Although Legolas prefers to keep their distance and rely on their bow, they are also proficient in close combat with their trusty dagger. Their agility and quick reflexes make them a formidable opponent on the battlefield.\n",
            "\n",
            "As an Elf, Legolas possesses a deep connection to nature and the magical energies of the world\n",
            "\n",
            "Belonging to the proud clan of Durin, they are fiercely loyal to their kin and take great pride in their heritage.\n",
            "\n",
            "Gimli stands at only 4 feet tall, but their stout and sturdy frame makes them a formidable opponent in battle. They have a long, braided beard that they take great care in maintaining, as it is a symbol of their clan's strength and resilience.\n",
            "\n",
            "Though typically gruff and serious, Gimli has a warm and kind heart towards their friends and allies. They have a great sense of humor and are always ready to share a good ale and tales of their past adventures around the fire.\n",
            "\n",
            "In battle, Gimli is a skilled and fearless fighter, always charging headfirst into the midst of the enemy.\n",
            "\n"
          ]
        }
      ],
      "source": [
        "import openai\n",
        "\n",
        "\n",
        "# JSON data\n",
        "character_data = {\n",
        "  \"characters\": [\n",
        "    {\n",
        "      \"Name\": \"Gandalf\",\n",
        "      \"Race\": \"Human\",\n",
        "      \"Class\": \"Wizard\",\n",
        "      \"Weapons\": [\"Staff\", \"Spellbook\"],\n",
        "      \"Background\": \"Scholar\"\n",
        "    },\n",
        "    {\n",
        "      \"Name\": \"Legolas\",\n",
        "      \"Race\": \"Elf\",\n",
        "      \"Class\": \"Ranger\",\n",
        "      \"Weapons\": [\"Longbow\", \"Dagger\"],\n",
        "      \"Background\": \"Outlander\"\n",
        "    },\n",
        "    {\n",
        "      \"Name\": \"Gimli\",\n",
        "      \"Race\": \"Dwarf\",\n",
        "      \"Class\": \"Fighter\",\n",
        "      \"Weapons\": [\"Battleaxe\", \"Shield\"],\n",
        "      \"Background\": \"Soldier\"\n",
        "    }\n",
        "  ]\n",
        "}\n",
        "\n",
        "# Generate fantasy background stories for each character\n",
        "for character in character_data[\"characters\"]:\n",
        "    prompt = f\"A {character['Race']} {character['Class']} named {character['Name']} walks the lands with their {', '.join(character['Weapons'])} in hand. They hail from a {character['Background']} background, wielding magic and skill in equal measure.\"\n",
        "\n",
        "    # Send a message to the OpenAI API and receive a response\n",
        "    response = openai.Completion.create(\n",
        "        engine=\"gpt-3.5-turbo-instruct\",\n",
        "        prompt=prompt,\n",
        "        max_tokens=150\n",
        "    )\n",
        "\n",
        "    print(response.choices[0].text.strip())\n",
        "    print()\n"
      ]
    }
  ],
  "metadata": {
    "accelerator": "GPU",
    "colab": {
      "gpuType": "T4",
      "provenance": []
    },
    "kernelspec": {
      "display_name": "Python 3",
      "name": "python3"
    },
    "language_info": {
      "codemirror_mode": {
        "name": "ipython",
        "version": 3
      },
      "file_extension": ".py",
      "mimetype": "text/x-python",
      "name": "python",
      "nbconvert_exporter": "python",
      "pygments_lexer": "ipython3",
      "version": "3.12.0"
    }
  },
  "nbformat": 4,
  "nbformat_minor": 0
}
