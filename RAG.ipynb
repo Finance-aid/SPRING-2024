{
  "cells": [
    {
      "cell_type": "code",
      "execution_count": null,
      "metadata": {
        "colab": {
          "base_uri": "https://localhost:8080/"
        },
        "id": "_DiPZRjD3s4F",
        "outputId": "1618f8de-2ccc-4106-f5ab-9aa3e5fbae72"
      },
      "outputs": [],
      "source": [
        "import openai\n",
        "\n",
        "\n",
        "# JSON data\n",
        "character_data = {\n",
        "  \"characters\": [\n",
        "    {\n",
        "      \"Name\": \"Gandalf\",\n",
        "      \"Race\": \"Human\",\n",
        "      \"Class\": \"Wizard\",\n",
        "      \"Weapons\": [\"Staff\", \"Spellbook\"],\n",
        "      \"Background\": \"Scholar\"\n",
        "    },\n",
        "    {\n",
        "      \"Name\": \"Legolas\",\n",
        "      \"Race\": \"Elf\",\n",
        "      \"Class\": \"Ranger\",\n",
        "      \"Weapons\": [\"Longbow\", \"Dagger\"],\n",
        "      \"Background\": \"Outlander\"\n",
        "    },\n",
        "    {\n",
        "      \"Name\": \"Gimli\",\n",
        "      \"Race\": \"Dwarf\",\n",
        "      \"Class\": \"Fighter\",\n",
        "      \"Weapons\": [\"Battleaxe\", \"Shield\"],\n",
        "      \"Background\": \"Soldier\"\n",
        "    }\n",
        "  ]\n",
        "}\n",
        "\n",
        "# Generate fantasy background stories for each character\n",
        "for character in character_data[\"characters\"]:\n",
        "    weapons = character['Weapons']\n",
        "    weapons[-1] = f\"and {weapons[-1]}\"\n",
        "    prompt = f\"Describe the background of a {character['Race']} {character['Class']} named {character['Name']}. This character's weapons are the {', '.join(character['Weapons'])}. They hail from a {character['Background']} background.\"\n",
        "\n",
        "    # Send a message to the OpenAI API and receive a response\n",
        "    response = openai.Completion.create(\n",
        "        engine=\"gpt-3.5-turbo-instruct\",\n",
        "        prompt=prompt,\n",
        "        max_tokens=150\n",
        "    )\n",
        "\n",
        "    output = response.choices[0].text.strip()\n",
        "    sentences = output.split('.')\n",
        "    sentences = sentences[:-1]\n",
        "    print('.'.join(sentences))\n",
        "    # print()\n"
      ]
    }
  ],
  "metadata": {
    "accelerator": "GPU",
    "colab": {
      "gpuType": "T4",
      "provenance": []
    },
    "kernelspec": {
      "display_name": "Python 3",
      "name": "python3"
    },
    "language_info": {
      "codemirror_mode": {
        "name": "ipython",
        "version": 3
      },
      "file_extension": ".py",
      "mimetype": "text/x-python",
      "name": "python",
      "nbconvert_exporter": "python",
      "pygments_lexer": "ipython3",
      "version": "3.12.0"
    }
  },
  "nbformat": 4,
  "nbformat_minor": 0
}
